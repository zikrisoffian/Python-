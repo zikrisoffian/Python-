{
 "cells": [
  {
   "cell_type": "markdown",
   "id": "45a79fb6",
   "metadata": {},
   "source": [
    "# Linear Regression Model and Analysis"
   ]
  },
  {
   "cell_type": "code",
   "execution_count": 1,
   "id": "84d0f2af",
   "metadata": {},
   "outputs": [],
   "source": [
    "# import libraries\n",
    "import pandas as pd\n",
    "import numpy as np\n",
    "import scipy.stats as stats\n",
    "import matplotlib.pyplot as plt\n",
    "import seaborn as sns\n",
    "import math\n",
    "import statistics\n",
    "%matplotlib inline"
   ]
  },
  {
   "cell_type": "markdown",
   "id": "d4672793",
   "metadata": {},
   "source": [
    "# Dataset\n",
    "Student Perforamance Dataset (synthetic dataset) The Student Performance Dataset is a dataset designed to examine the factors influencing academic student performance. \\\n",
    "The dataset consists of 10,000 student records, with each record containing information about various predictors and a performance index.\n",
    "\n",
    "Variables:\n",
    "Hours Studied: The total number of hours spent studying by each student.\\\n",
    "Previous Scores: The scores obtained by students in previous tests.\\\n",
    "Extracurricular Activities: Whether the student participates in extracurricular activities (Yes or No).\\\n",
    "Sleep Hours: The average number of hours of sleep the student had per day.\\\n",
    "Sample Question Papers Practiced: The number of sample question papers the student practiced.\n",
    "\n",
    "Target Variable:\n",
    "Performance Index: A measure of the overall performance of each student.\\\n",
    "The performance index represents the student's academic performance and has been rounded to the nearest integer. The index ranges from 10 to 100, with higher values indicating better performance."
   ]
  },
  {
   "cell_type": "code",
   "execution_count": 2,
   "id": "76143aad",
   "metadata": {},
   "outputs": [
    {
     "name": "stdout",
     "output_type": "stream",
     "text": [
      "<class 'pandas.core.frame.DataFrame'>\n",
      "RangeIndex: 10000 entries, 0 to 9999\n",
      "Data columns (total 6 columns):\n",
      " #   Column                            Non-Null Count  Dtype \n",
      "---  ------                            --------------  ----- \n",
      " 0   hours                             10000 non-null  int64 \n",
      " 1   previous                          10000 non-null  int64 \n",
      " 2   Extracurricular Activities        10000 non-null  object\n",
      " 3   Sleep Hours                       10000 non-null  int64 \n",
      " 4   Sample Question Papers Practiced  10000 non-null  int64 \n",
      " 5   performance                       10000 non-null  int64 \n",
      "dtypes: int64(5), object(1)\n",
      "memory usage: 468.9+ KB\n"
     ]
    }
   ],
   "source": [
    "student = pd.read_csv('Student_Performance.csv')\n",
    "student.info()"
   ]
  },
  {
   "cell_type": "markdown",
   "id": "9739f915",
   "metadata": {},
   "source": [
    "# Sampling\n",
    "Take sample of 250 students by random. The dataset consist of 10000 students.\n",
    "We can also use all data but for the purpose of study, let's take this sample number."
   ]
  },
  {
   "cell_type": "code",
   "execution_count": 3,
   "id": "aebe3bd4",
   "metadata": {},
   "outputs": [
    {
     "data": {
      "text/html": [
       "<div>\n",
       "<style scoped>\n",
       "    .dataframe tbody tr th:only-of-type {\n",
       "        vertical-align: middle;\n",
       "    }\n",
       "\n",
       "    .dataframe tbody tr th {\n",
       "        vertical-align: top;\n",
       "    }\n",
       "\n",
       "    .dataframe thead th {\n",
       "        text-align: right;\n",
       "    }\n",
       "</style>\n",
       "<table border=\"1\" class=\"dataframe\">\n",
       "  <thead>\n",
       "    <tr style=\"text-align: right;\">\n",
       "      <th></th>\n",
       "      <th>hours</th>\n",
       "      <th>previous</th>\n",
       "      <th>Extracurricular Activities</th>\n",
       "      <th>Sleep Hours</th>\n",
       "      <th>Sample Question Papers Practiced</th>\n",
       "      <th>performance</th>\n",
       "    </tr>\n",
       "    <tr>\n",
       "      <th>index</th>\n",
       "      <th></th>\n",
       "      <th></th>\n",
       "      <th></th>\n",
       "      <th></th>\n",
       "      <th></th>\n",
       "      <th></th>\n",
       "    </tr>\n",
       "  </thead>\n",
       "  <tbody>\n",
       "    <tr>\n",
       "      <th>0</th>\n",
       "      <td>3</td>\n",
       "      <td>87</td>\n",
       "      <td>Yes</td>\n",
       "      <td>8</td>\n",
       "      <td>7</td>\n",
       "      <td>68</td>\n",
       "    </tr>\n",
       "    <tr>\n",
       "      <th>1</th>\n",
       "      <td>9</td>\n",
       "      <td>53</td>\n",
       "      <td>Yes</td>\n",
       "      <td>6</td>\n",
       "      <td>9</td>\n",
       "      <td>49</td>\n",
       "    </tr>\n",
       "    <tr>\n",
       "      <th>2</th>\n",
       "      <td>7</td>\n",
       "      <td>91</td>\n",
       "      <td>Yes</td>\n",
       "      <td>4</td>\n",
       "      <td>9</td>\n",
       "      <td>83</td>\n",
       "    </tr>\n",
       "    <tr>\n",
       "      <th>3</th>\n",
       "      <td>6</td>\n",
       "      <td>63</td>\n",
       "      <td>Yes</td>\n",
       "      <td>4</td>\n",
       "      <td>8</td>\n",
       "      <td>51</td>\n",
       "    </tr>\n",
       "    <tr>\n",
       "      <th>4</th>\n",
       "      <td>8</td>\n",
       "      <td>73</td>\n",
       "      <td>No</td>\n",
       "      <td>5</td>\n",
       "      <td>3</td>\n",
       "      <td>66</td>\n",
       "    </tr>\n",
       "  </tbody>\n",
       "</table>\n",
       "</div>"
      ],
      "text/plain": [
       "       hours  previous Extracurricular Activities  Sleep Hours  \\\n",
       "index                                                            \n",
       "0          3        87                        Yes            8   \n",
       "1          9        53                        Yes            6   \n",
       "2          7        91                        Yes            4   \n",
       "3          6        63                        Yes            4   \n",
       "4          8        73                         No            5   \n",
       "\n",
       "       Sample Question Papers Practiced  performance  \n",
       "index                                                 \n",
       "0                                     7           68  \n",
       "1                                     9           49  \n",
       "2                                     9           83  \n",
       "3                                     8           51  \n",
       "4                                     3           66  "
      ]
     },
     "execution_count": 3,
     "metadata": {},
     "output_type": "execute_result"
    }
   ],
   "source": [
    "# create new column 'index' and make 'index' as index\n",
    "# create new table for  sample data\n",
    "\n",
    "sample = student.sample( n = 250 )\n",
    "sample[\"index\"] = np.arange(0,250)\n",
    "sample = sample.set_index('index')\n",
    "sample.head()"
   ]
  },
  {
   "cell_type": "code",
   "execution_count": 4,
   "id": "72711c29",
   "metadata": {},
   "outputs": [
    {
     "data": {
      "text/html": [
       "<div>\n",
       "<style scoped>\n",
       "    .dataframe tbody tr th:only-of-type {\n",
       "        vertical-align: middle;\n",
       "    }\n",
       "\n",
       "    .dataframe tbody tr th {\n",
       "        vertical-align: top;\n",
       "    }\n",
       "\n",
       "    .dataframe thead th {\n",
       "        text-align: right;\n",
       "    }\n",
       "</style>\n",
       "<table border=\"1\" class=\"dataframe\">\n",
       "  <thead>\n",
       "    <tr style=\"text-align: right;\">\n",
       "      <th></th>\n",
       "      <th>hours</th>\n",
       "      <th>previous</th>\n",
       "      <th>Extracurricular Activities</th>\n",
       "      <th>Sleep Hours</th>\n",
       "      <th>Sample Question Papers Practiced</th>\n",
       "      <th>performance</th>\n",
       "    </tr>\n",
       "    <tr>\n",
       "      <th>index</th>\n",
       "      <th></th>\n",
       "      <th></th>\n",
       "      <th></th>\n",
       "      <th></th>\n",
       "      <th></th>\n",
       "      <th></th>\n",
       "    </tr>\n",
       "  </thead>\n",
       "  <tbody>\n",
       "    <tr>\n",
       "      <th>0</th>\n",
       "      <td>3</td>\n",
       "      <td>87</td>\n",
       "      <td>1</td>\n",
       "      <td>8</td>\n",
       "      <td>7</td>\n",
       "      <td>68</td>\n",
       "    </tr>\n",
       "    <tr>\n",
       "      <th>1</th>\n",
       "      <td>9</td>\n",
       "      <td>53</td>\n",
       "      <td>1</td>\n",
       "      <td>6</td>\n",
       "      <td>9</td>\n",
       "      <td>49</td>\n",
       "    </tr>\n",
       "    <tr>\n",
       "      <th>2</th>\n",
       "      <td>7</td>\n",
       "      <td>91</td>\n",
       "      <td>1</td>\n",
       "      <td>4</td>\n",
       "      <td>9</td>\n",
       "      <td>83</td>\n",
       "    </tr>\n",
       "    <tr>\n",
       "      <th>3</th>\n",
       "      <td>6</td>\n",
       "      <td>63</td>\n",
       "      <td>1</td>\n",
       "      <td>4</td>\n",
       "      <td>8</td>\n",
       "      <td>51</td>\n",
       "    </tr>\n",
       "    <tr>\n",
       "      <th>4</th>\n",
       "      <td>8</td>\n",
       "      <td>73</td>\n",
       "      <td>0</td>\n",
       "      <td>5</td>\n",
       "      <td>3</td>\n",
       "      <td>66</td>\n",
       "    </tr>\n",
       "  </tbody>\n",
       "</table>\n",
       "</div>"
      ],
      "text/plain": [
       "       hours  previous  Extracurricular Activities  Sleep Hours  \\\n",
       "index                                                             \n",
       "0          3        87                           1            8   \n",
       "1          9        53                           1            6   \n",
       "2          7        91                           1            4   \n",
       "3          6        63                           1            4   \n",
       "4          8        73                           0            5   \n",
       "\n",
       "       Sample Question Papers Practiced  performance  \n",
       "index                                                 \n",
       "0                                     7           68  \n",
       "1                                     9           49  \n",
       "2                                     9           83  \n",
       "3                                     8           51  \n",
       "4                                     3           66  "
      ]
     },
     "execution_count": 4,
     "metadata": {},
     "output_type": "execute_result"
    }
   ],
   "source": [
    "# change data type from category to number\n",
    "# change yes and no to 1 and 0 for extracurricular activities\n",
    "\n",
    "sample['Extracurricular Activities'] = sample['Extracurricular Activities'] .astype('category')\n",
    "sample['Extracurricular Activities'] = sample['Extracurricular Activities'] .cat.codes\n",
    "sample.head()"
   ]
  },
  {
   "cell_type": "markdown",
   "id": "526e9303",
   "metadata": {},
   "source": [
    "# Descriptive Statistics\n",
    "Count, mean , standard deviation, min, percentile of sample data set"
   ]
  },
  {
   "cell_type": "code",
   "execution_count": 5,
   "id": "a1d3534c",
   "metadata": {},
   "outputs": [
    {
     "data": {
      "text/html": [
       "<div>\n",
       "<style scoped>\n",
       "    .dataframe tbody tr th:only-of-type {\n",
       "        vertical-align: middle;\n",
       "    }\n",
       "\n",
       "    .dataframe tbody tr th {\n",
       "        vertical-align: top;\n",
       "    }\n",
       "\n",
       "    .dataframe thead th {\n",
       "        text-align: right;\n",
       "    }\n",
       "</style>\n",
       "<table border=\"1\" class=\"dataframe\">\n",
       "  <thead>\n",
       "    <tr style=\"text-align: right;\">\n",
       "      <th></th>\n",
       "      <th>count</th>\n",
       "      <th>mean</th>\n",
       "      <th>std</th>\n",
       "      <th>min</th>\n",
       "      <th>25%</th>\n",
       "      <th>50%</th>\n",
       "      <th>75%</th>\n",
       "      <th>max</th>\n",
       "    </tr>\n",
       "  </thead>\n",
       "  <tbody>\n",
       "    <tr>\n",
       "      <th>hours</th>\n",
       "      <td>250.0</td>\n",
       "      <td>4.472</td>\n",
       "      <td>2.535138</td>\n",
       "      <td>1.0</td>\n",
       "      <td>2.00</td>\n",
       "      <td>4.0</td>\n",
       "      <td>6.75</td>\n",
       "      <td>9.0</td>\n",
       "    </tr>\n",
       "    <tr>\n",
       "      <th>previous</th>\n",
       "      <td>250.0</td>\n",
       "      <td>67.668</td>\n",
       "      <td>17.540480</td>\n",
       "      <td>40.0</td>\n",
       "      <td>53.25</td>\n",
       "      <td>64.5</td>\n",
       "      <td>84.75</td>\n",
       "      <td>99.0</td>\n",
       "    </tr>\n",
       "    <tr>\n",
       "      <th>Extracurricular Activities</th>\n",
       "      <td>250.0</td>\n",
       "      <td>0.524</td>\n",
       "      <td>0.500426</td>\n",
       "      <td>0.0</td>\n",
       "      <td>0.00</td>\n",
       "      <td>1.0</td>\n",
       "      <td>1.00</td>\n",
       "      <td>1.0</td>\n",
       "    </tr>\n",
       "    <tr>\n",
       "      <th>Sleep Hours</th>\n",
       "      <td>250.0</td>\n",
       "      <td>6.368</td>\n",
       "      <td>1.714741</td>\n",
       "      <td>4.0</td>\n",
       "      <td>5.00</td>\n",
       "      <td>6.0</td>\n",
       "      <td>8.00</td>\n",
       "      <td>9.0</td>\n",
       "    </tr>\n",
       "    <tr>\n",
       "      <th>Sample Question Papers Practiced</th>\n",
       "      <td>250.0</td>\n",
       "      <td>4.760</td>\n",
       "      <td>2.882993</td>\n",
       "      <td>0.0</td>\n",
       "      <td>2.00</td>\n",
       "      <td>5.0</td>\n",
       "      <td>7.00</td>\n",
       "      <td>9.0</td>\n",
       "    </tr>\n",
       "    <tr>\n",
       "      <th>performance</th>\n",
       "      <td>250.0</td>\n",
       "      <td>51.988</td>\n",
       "      <td>19.842043</td>\n",
       "      <td>12.0</td>\n",
       "      <td>37.00</td>\n",
       "      <td>51.0</td>\n",
       "      <td>68.00</td>\n",
       "      <td>96.0</td>\n",
       "    </tr>\n",
       "  </tbody>\n",
       "</table>\n",
       "</div>"
      ],
      "text/plain": [
       "                                  count    mean        std   min    25%   50%  \\\n",
       "hours                             250.0   4.472   2.535138   1.0   2.00   4.0   \n",
       "previous                          250.0  67.668  17.540480  40.0  53.25  64.5   \n",
       "Extracurricular Activities        250.0   0.524   0.500426   0.0   0.00   1.0   \n",
       "Sleep Hours                       250.0   6.368   1.714741   4.0   5.00   6.0   \n",
       "Sample Question Papers Practiced  250.0   4.760   2.882993   0.0   2.00   5.0   \n",
       "performance                       250.0  51.988  19.842043  12.0  37.00  51.0   \n",
       "\n",
       "                                    75%   max  \n",
       "hours                              6.75   9.0  \n",
       "previous                          84.75  99.0  \n",
       "Extracurricular Activities         1.00   1.0  \n",
       "Sleep Hours                        8.00   9.0  \n",
       "Sample Question Papers Practiced   7.00   9.0  \n",
       "performance                       68.00  96.0  "
      ]
     },
     "execution_count": 5,
     "metadata": {},
     "output_type": "execute_result"
    }
   ],
   "source": [
    "# simple linear regression\n",
    "# previous test score as independent variable \n",
    "# performance index as dependent variable \n",
    "x = sample['previous']\n",
    "y = sample['performance']\n",
    "sample.describe().transpose()"
   ]
  },
  {
   "cell_type": "markdown",
   "id": "10c812c8",
   "metadata": {},
   "source": [
    "# Scipy stats linear regression\n",
    "Calculate a linear least-squares regression for two sets of measurements."
   ]
  },
  {
   "cell_type": "code",
   "execution_count": 12,
   "id": "01d49680",
   "metadata": {},
   "outputs": [
    {
     "data": {
      "text/plain": [
       "LinregressResult(slope=1.0449887092249357, intercept=-18.72429597583296, rvalue=0.9237760244930957, pvalue=2.2538687084946864e-105, stderr=0.027506930054233585, intercept_stderr=1.9226135968733074)"
      ]
     },
     "execution_count": 12,
     "metadata": {},
     "output_type": "execute_result"
    }
   ],
   "source": [
    "# use scipy.stats library to get linear regression equation, r value and p value\n",
    "# this is much easy than doing the linear regression by pure python\n",
    "\n",
    "linear_regression = stats.linregress(x,y)\n",
    "linear_regression"
   ]
  },
  {
   "cell_type": "code",
   "execution_count": 15,
   "id": "4cfca48f",
   "metadata": {},
   "outputs": [
    {
     "name": "stdout",
     "output_type": "stream",
     "text": [
      "\n",
      "The linear regression equation for the independent and dependent variable is \n",
      "1.045x + -18.7243\n",
      "The r-squared value is 0.9238\n",
      "p-value is 2.2538687084946864e-105\n"
     ]
    }
   ],
   "source": [
    "# get the coefficient and constant of the regression\n",
    "# get R squared value\n",
    "b0 = linear_regression.intercept\n",
    "b1 = linear_regression.slope\n",
    "r_squared = linear_regression.rvalue\n",
    "p_value = linear_regression.pvalue\n",
    "error = linear_regression.stderr\n",
    "intercept_error = linear_regression.intercept_stderr\n",
    "print(f'''\n",
    "The linear regression equation for the independent and dependent variable is \n",
    "{round(b1,4)}x + {round(b0,4)}\n",
    "The r-squared value is {round(r_squared,4)}\n",
    "p-value is {(p_value)}''')"
   ]
  },
  {
   "cell_type": "code",
   "execution_count": 8,
   "id": "e13c3995",
   "metadata": {},
   "outputs": [
    {
     "data": {
      "image/png": "[encoded data removed]",
      "text/plain": [
       "<Figure size 1500x800 with 1 Axes>"
      ]
     },
     "metadata": {},
     "output_type": "display_data"
    }
   ],
   "source": [
    "prediction_score = []\n",
    "for i in x:\n",
    "    y_predict = linear_regression.slope * i + linear_regression.intercept\n",
    "    prediction_score.append(y_predict)\n",
    "\n",
    "\n",
    "plt.figure(figsize = (15,8))\n",
    "plt.scatter(x, y, s = 10 , alpha = 1, label = 'Real value')\n",
    "plt.plot(x, prediction_score, color = 'black', label = 'Predicted value')\n",
    "ax = plt.gca()\n",
    "ax.set_xlim([30, 100])\n",
    "ax.set_ylim([0, 100])\n",
    "plt.xlabel('Previous score: Independent Variabel')\n",
    "plt.ylabel('Performance Index: Dependent Variable')\n",
    "plt.legend()\n",
    "plt.show()"
   ]
  }
 ],
 "metadata": {
  "kernelspec": {
   "display_name": "Python 3 (ipykernel)",
   "language": "python",
   "name": "python3"
  },
  "language_info": {
   "codemirror_mode": {
    "name": "ipython",
    "version": 3
   },
   "file_extension": ".py",
   "mimetype": "text/x-python",
   "name": "python",
   "nbconvert_exporter": "python",
   "pygments_lexer": "ipython3",
   "version": "3.10.9"
  }
 },
 "nbformat": 4,
 "nbformat_minor": 5
}
