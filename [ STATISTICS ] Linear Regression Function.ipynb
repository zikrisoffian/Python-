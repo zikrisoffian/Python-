{
 "cells": [
  {
   "cell_type": "code",
   "execution_count": 1,
   "id": "2b29eded",
   "metadata": {},
   "outputs": [],
   "source": [
    "import pandas as pd\n",
    "import numpy as np\n",
    "import scipy.stats as stats\n",
    "import matplotlib.pyplot as plt\n",
    "import math\n",
    "%matplotlib inline"
   ]
  },
  {
   "cell_type": "code",
   "execution_count": 62,
   "id": "929bdc40",
   "metadata": {},
   "outputs": [
    {
     "data": {
      "text/plain": [
       "[17, 13, 12, 15, 16, 14, 16, 16, 18, 19]"
      ]
     },
     "execution_count": 62,
     "metadata": {},
     "output_type": "execute_result"
    }
   ],
   "source": [
    "data1 = [17,13,12,15,16,14,16,16,18,19]\n",
    "data2 = [94,73,59,80,93,85,66,79,77,91]"
   ]
  },
  {
   "cell_type": "code",
   "execution_count": 20,
   "id": "f11ec7dc",
   "metadata": {},
   "outputs": [
    {
     "data": {
      "text/plain": [
       "15.6"
      ]
     },
     "execution_count": 20,
     "metadata": {},
     "output_type": "execute_result"
    }
   ],
   "source": [
    "mean1 = np.mean(data1)\n",
    "mean1"
   ]
  },
  {
   "cell_type": "code",
   "execution_count": 81,
   "id": "61307400",
   "metadata": {},
   "outputs": [
    {
     "data": {
      "text/plain": [
       "79.7"
      ]
     },
     "execution_count": 81,
     "metadata": {},
     "output_type": "execute_result"
    }
   ],
   "source": [
    "mean2 = np.mean(data2)\n",
    "mean2"
   ]
  },
  {
   "cell_type": "code",
   "execution_count": 202,
   "id": "204288a7",
   "metadata": {},
   "outputs": [],
   "source": [
    "data1_regression = []\n",
    "for x in data1:\n",
    "    regress = x - mean1\n",
    "    data1_regression.append(regress)"
   ]
  },
  {
   "cell_type": "code",
   "execution_count": 201,
   "id": "159d219d",
   "metadata": {},
   "outputs": [],
   "source": [
    "data2_regression = []\n",
    "for x in data2:\n",
    "    regress = x - mean2\n",
    "    data2_regression.append(regress)"
   ]
  },
  {
   "cell_type": "code",
   "execution_count": 297,
   "id": "14bcf566",
   "metadata": {},
   "outputs": [],
   "source": [
    "data1_regression_square = []\n",
    "for x in data1:\n",
    "    regress_square = ( x - mean1 ) ** 2\n",
    "    data1_regression_square.append(regress_square)\n"
   ]
  },
  {
   "cell_type": "code",
   "execution_count": 298,
   "id": "f292dcb4",
   "metadata": {},
   "outputs": [],
   "source": [
    "data2_regression_square = []\n",
    "for x in data2:\n",
    "    regress_square = ( x - mean2 ) ** 2\n",
    "    data2_regression_square.append(regress_square)\n"
   ]
  },
  {
   "cell_type": "code",
   "execution_count": 82,
   "id": "16e16d8f",
   "metadata": {},
   "outputs": [
    {
     "data": {
      "text/plain": [
       "42.4"
      ]
     },
     "execution_count": 82,
     "metadata": {},
     "output_type": "execute_result"
    }
   ],
   "source": [
    "d1 = np.sum(data1_regression_square)\n",
    "d1"
   ]
  },
  {
   "cell_type": "code",
   "execution_count": 83,
   "id": "0c5015ee",
   "metadata": {},
   "outputs": [
    {
     "data": {
      "text/plain": [
       "1206.1"
      ]
     },
     "execution_count": 83,
     "metadata": {},
     "output_type": "execute_result"
    }
   ],
   "source": [
    "d2 = np.sum(data2_regression_square)\n",
    "d2"
   ]
  },
  {
   "cell_type": "code",
   "execution_count": 299,
   "id": "bfebd845",
   "metadata": {},
   "outputs": [
    {
     "data": {
      "text/plain": [
       "[20.02,\n",
       " 17.420000000000005,\n",
       " 74.52,\n",
       " -0.1799999999999982,\n",
       " 5.320000000000004,\n",
       " -8.479999999999993,\n",
       " -5.480000000000006,\n",
       " -0.28000000000000136,\n",
       " -6.4800000000000075,\n",
       " 38.419999999999995]"
      ]
     },
     "execution_count": 299,
     "metadata": {},
     "output_type": "execute_result"
    }
   ],
   "source": [
    "multiplication_of_regress = []\n",
    "for i in range(0 ,len(data1_regression_square) ):\n",
    "    c = data1_regression[i] * data2_regression[i]\n",
    "    multiplication_of_regress.append(c)\n",
    "\n",
    "multiplication_of_regress"
   ]
  },
  {
   "cell_type": "code",
   "execution_count": 87,
   "id": "f7251071",
   "metadata": {},
   "outputs": [
    {
     "data": {
      "text/plain": [
       "134.79999999999998"
      ]
     },
     "execution_count": 87,
     "metadata": {},
     "output_type": "execute_result"
    }
   ],
   "source": [
    "c1 = np.sum(multiplication_of_regress)\n",
    "c1"
   ]
  },
  {
   "cell_type": "code",
   "execution_count": 94,
   "id": "7de04c47",
   "metadata": {},
   "outputs": [
    {
     "data": {
      "text/plain": [
       "0.5960947613894624"
      ]
     },
     "execution_count": 94,
     "metadata": {},
     "output_type": "execute_result"
    }
   ],
   "source": [
    "pearson_correlation_coefficient = c1 / ((d1 * d2)**0.5)\n",
    "pearson_correlation_coefficient"
   ]
  },
  {
   "cell_type": "code",
   "execution_count": 106,
   "id": "72ff7bc2",
   "metadata": {},
   "outputs": [
    {
     "data": {
      "text/plain": [
       "3.1792452830188678"
      ]
     },
     "execution_count": 106,
     "metadata": {},
     "output_type": "execute_result"
    }
   ],
   "source": [
    "sy = (d2 / (len(data1)-1) ) ** 0.5 \n",
    "sx = (d1 / (len(data1)-1) ) ** 0.5 \n",
    "b = pearson_correlation_coefficient * sy / sx\n",
    "b"
   ]
  },
  {
   "cell_type": "code",
   "execution_count": 105,
   "id": "ddb30b23",
   "metadata": {},
   "outputs": [
    {
     "data": {
      "text/plain": [
       "30.103773584905667"
      ]
     },
     "execution_count": 105,
     "metadata": {},
     "output_type": "execute_result"
    }
   ],
   "source": [
    "a = np.mean(data2) - b * np.mean(data1)"
   ]
  },
  {
   "cell_type": "code",
   "execution_count": 137,
   "id": "cc121062",
   "metadata": {},
   "outputs": [
    {
     "data": {
      "text/plain": [
       "array([ 1.,  2.,  3.,  4.,  5.,  6.,  7.,  8.,  9., 10., 11., 12., 13.,\n",
       "       14., 15., 16., 17., 18., 19., 20.])"
      ]
     },
     "execution_count": 137,
     "metadata": {},
     "output_type": "execute_result"
    }
   ],
   "source": [
    "x = np.linspace(1,20,20)\n",
    "x"
   ]
  },
  {
   "cell_type": "code",
   "execution_count": 138,
   "id": "12839558",
   "metadata": {},
   "outputs": [
    {
     "data": {
      "text/plain": [
       "[30.1031,\n",
       " 33.2821,\n",
       " 36.4611,\n",
       " 39.640100000000004,\n",
       " 42.8191,\n",
       " 45.9981,\n",
       " 49.177099999999996,\n",
       " 52.3561,\n",
       " 55.5351,\n",
       " 58.7141,\n",
       " 61.893100000000004,\n",
       " 65.0721,\n",
       " 68.2511,\n",
       " 71.4301,\n",
       " 74.6091,\n",
       " 77.7881,\n",
       " 80.9671,\n",
       " 84.1461,\n",
       " 87.32509999999999,\n",
       " 90.5041]"
      ]
     },
     "execution_count": 138,
     "metadata": {},
     "output_type": "execute_result"
    }
   ],
   "source": [
    "# linear fucntion\n",
    "\n",
    "y_score = []\n",
    "for i in range(0,20):\n",
    "    y = 3.179 * i + 30.1031\n",
    "    y_score.append(y)\n",
    "\n",
    "y_score"
   ]
  },
  {
   "cell_type": "code",
   "execution_count": 141,
   "id": "e9277a3c",
   "metadata": {},
   "outputs": [
    {
     "data": {
      "image/png": "[encoded data removed]",
      "text/plain": [
       "<Figure size 640x480 with 1 Axes>"
      ]
     },
     "metadata": {},
     "output_type": "display_data"
    }
   ],
   "source": [
    "plt.plot(x, y_score)\n",
    "plt.title('Linear Regression Example : Test score vs Attitude score')\n",
    "plt.xlabel('Test Score')\n",
    "plt.ylabel('Attitude Score')\n",
    "plt.scatter(data1,data2)\n",
    "plt.show()"
   ]
  },
  {
   "cell_type": "code",
   "execution_count": 441,
   "id": "42f26381",
   "metadata": {},
   "outputs": [],
   "source": [
    "data_raw = { 0 : (80,90,100,110,120,130,140,150,160,170), 1 : (9,8,7,9,8,7,9,8,6,7)}\n",
    "data = pd.DataFrame( data_raw)"
   ]
  },
  {
   "cell_type": "code",
   "execution_count": 440,
   "id": "6fa3390d",
   "metadata": {},
   "outputs": [
    {
     "data": {
      "image/png": "[encoded data removed]",
      "text/plain": [
       "<Figure size 640x480 with 1 Axes>"
      ]
     },
     "metadata": {},
     "output_type": "display_data"
    },
    {
     "name": "stdout",
     "output_type": "stream",
     "text": [
      "Pearson Correaltion Coefficient is -0.49746833816309094\n",
      "    The linear regression equation is y = -0.01696969696969697x + 9.921212121212122\n",
      "    \n"
     ]
    }
   ],
   "source": [
    "data_regression = {}\n",
    "data_regression_square = {}\n",
    "total_data_regression_square = {}\n",
    "for i in range(0,2):\n",
    "    data_regression[i] = []\n",
    "    data_regression_square[i] = []\n",
    "    for x in data.loc[:,i]:\n",
    "        regress = x - np.mean(data.loc[:,i])\n",
    "        regress_square = ( x - np.mean(data.loc[:,i]) ) ** 2\n",
    "        data_regression[i].append(regress)\n",
    "        data_regression_square[i].append(regress_square)\n",
    "    total_data_regression_square[i] = np.sum(data_regression_square[i])\n",
    "\n",
    "multiplication_of_regress = []\n",
    "for j in range(0,1):\n",
    "    for y in range(0, len(data_regression[j])):\n",
    "        multiply_2_regress = data_regression[j][y] * data_regression[j+1][y]\n",
    "        multiplication_of_regress.append(multiply_2_regress)\n",
    "    sum_of_multiplication = np.sum(multiplication_of_regress)\n",
    "    pearson_correlation_coefficient = sum_of_multiplication / ( (np.sum(data_regression_square[j]) * np.sum(data_regression_square[j+1]) )** 0.5)\n",
    "    sy = ((np.sum(data_regression_square[j+1])) / (len(data_regression_square[j+1])-1))  ** 0.5 \n",
    "    sx = ((np.sum(data_regression_square[j] ))/ (len(data_regression_square[j])-1))  ** 0.5 \n",
    "    b = pearson_correlation_coefficient * sy / sx\n",
    "    a = np.mean(data.loc[:,j+1]) - b * np.mean(data.loc[:,j])\n",
    "    x = np.linspace(0,max(data.loc[:,j]),20) \n",
    "    y_score = []\n",
    "    for k in x:\n",
    "        y = b * k + a\n",
    "        y_score.append(y)\n",
    "    plt.plot(x, y_score)\n",
    "    plt.title('Linear Regression Example')\n",
    "    plt.xlabel('independent variable')\n",
    "    plt.ylabel('dependent variable')\n",
    "    plt.scatter(data.loc[:,j],data.loc[:,j+1])\n",
    "    plt.show()\n",
    "    \n",
    "text =     f\"\"\"Pearson Correaltion Coefficient is {pearson_correlation_coefficient}\n",
    "    The linear regression equation is y = {b}x + {a}\n",
    "    \"\"\"\n",
    "\n",
    "print(text)"
   ]
  },
  {
   "cell_type": "code",
   "execution_count": null,
   "id": "f43b26ee",
   "metadata": {},
   "outputs": [],
   "source": []
  }
 ],
 "metadata": {
  "kernelspec": {
   "display_name": "Python 3 (ipykernel)",
   "language": "python",
   "name": "python3"
  },
  "language_info": {
   "codemirror_mode": {
    "name": "ipython",
    "version": 3
   },
   "file_extension": ".py",
   "mimetype": "text/x-python",
   "name": "python",
   "nbconvert_exporter": "python",
   "pygments_lexer": "ipython3",
   "version": "3.10.9"
  }
 },
 "nbformat": 4,
 "nbformat_minor": 5
}
